{
 "cells": [
  {
   "cell_type": "code",
   "execution_count": null,
   "metadata": {
    "collapsed": false
   },
   "outputs": [],
   "source": [
    "%matplotlib inline\n",
    "import matplotlib.pyplot as plt\n",
    "import numpy as np\n",
    "import pandas as pd\n",
    "\n",
    "import model\n",
    "\n",
    "num_agents = 20\n",
    "num_memes  = 20\n",
    "num_lexes  = 20\n",
    "num_steps  = 350000\n",
    "report_every = 10000\n",
    "\n",
    "def plot_stats(stats):\n",
    "    df = pd.DataFrame.from_dict(stats)\n",
    "    fig, axes = plt.subplots(2, 2, figsize=(6, 6));\n",
    "    df.plot('Step','Comprehension', ax=axes[0,0])\n",
    "    df.plot('Step','AcceptanceRate', ax=axes[0,1])\n",
    "    df.plot('Step','GrammarVar', ax=axes[1,0])\n",
    "    df.plot('Step','MeanGrammarDrift', ax=axes[1,1])\n",
    "    axes[0,0].set_ylim([0,1])\n",
    "    axes[0,1].set_ylim([0,1])\n",
    "    axes[1,0].set_ylim([0,axes[1,0].get_ylim()[1]])\n",
    "    axes[1,1].set_ylim([0,axes[1,1].get_ylim()[1]])\n"
   ]
  },
  {
   "cell_type": "code",
   "execution_count": null,
   "metadata": {
    "collapsed": false
   },
   "outputs": [],
   "source": [
    "# Uniform meme probability, regular mutation operator\n",
    "meme_probs = np.ones(num_memes)\n",
    "meme_probs /= meme_probs.sum()\n",
    "\n",
    "grammars = model.init_grammars(meme_probs, num_agents=num_agents, num_memes=num_memes, num_lexes=num_lexes)\n",
    "stats = model.run_simulation(grammars, meme_probs=meme_probs,\n",
    "                             num_agents=num_agents, num_memes=num_memes, num_lexes=num_lexes,\n",
    "                             mutation_scale=0.1, num_steps=num_steps, report_every=report_every)"
   ]
  },
  {
   "cell_type": "code",
   "execution_count": null,
   "metadata": {
    "collapsed": false,
    "scrolled": false
   },
   "outputs": [],
   "source": [
    "plot_stats(stats)"
   ]
  },
  {
   "cell_type": "code",
   "execution_count": null,
   "metadata": {
    "collapsed": false
   },
   "outputs": [],
   "source": [
    "# Let's try it with random intial meme probabilities\n",
    "meme_probs = np.random.random(num_memes)\n",
    "meme_probs /= meme_probs.sum()\n",
    "\n",
    "grammars = model.init_grammars(meme_probs, num_agents=num_agents, num_memes=num_memes, num_lexes=num_lexes)\n",
    "stats2 = model.run_simulation(grammars, meme_probs=meme_probs,\n",
    "                             num_agents=num_agents, num_memes=num_memes, num_lexes=num_lexes,\n",
    "                             mutation_scale=0.1, num_steps=num_steps, report_every=report_every)"
   ]
  },
  {
   "cell_type": "code",
   "execution_count": null,
   "metadata": {
    "collapsed": false
   },
   "outputs": [],
   "source": [
    "plot_stats(stats2)"
   ]
  },
  {
   "cell_type": "code",
   "execution_count": null,
   "metadata": {
    "collapsed": false
   },
   "outputs": [],
   "source": [
    "# Now let's try it with AdditiveSingleUniform mutator\n",
    "import mutators\n",
    "meme_probs = np.ones(num_memes)\n",
    "meme_probs /= meme_probs.sum()\n",
    "\n",
    "grammars = model.init_grammars(meme_probs, num_agents=num_agents, num_memes=num_memes, num_lexes=num_lexes)\n",
    "stats3 = model.run_simulation(grammars, meme_probs=meme_probs,\n",
    "                             num_agents=num_agents, num_memes=num_memes, num_lexes=num_lexes,\n",
    "                             mutator_class=mutators.AdditiveSingleUniform, mutation_scale=0.1, \n",
    "                             num_steps=num_steps, report_every=report_every)"
   ]
  },
  {
   "cell_type": "code",
   "execution_count": null,
   "metadata": {
    "collapsed": false
   },
   "outputs": [],
   "source": [
    "plot_stats(stats3)"
   ]
  },
  {
   "cell_type": "code",
   "execution_count": null,
   "metadata": {
    "collapsed": false
   },
   "outputs": [],
   "source": []
  }
 ],
 "metadata": {
  "kernelspec": {
   "display_name": "Python 3",
   "language": "python",
   "name": "python3"
  },
  "language_info": {
   "codemirror_mode": {
    "name": "ipython",
    "version": 3
   },
   "file_extension": ".py",
   "mimetype": "text/x-python",
   "name": "python",
   "nbconvert_exporter": "python",
   "pygments_lexer": "ipython3",
   "version": "3.6.1"
  }
 },
 "nbformat": 4,
 "nbformat_minor": 0
}
