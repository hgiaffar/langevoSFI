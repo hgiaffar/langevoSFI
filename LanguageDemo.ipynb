{
 "cells": [
  {
   "cell_type": "code",
   "execution_count": null,
   "metadata": {
    "collapsed": false
   },
   "outputs": [],
   "source": [
    "%matplotlib inline\n",
    "import matplotlib.pyplot as plt\n",
    "import numpy as np\n",
    "\n",
    "import model\n",
    "\n",
    "num_agents = 20\n",
    "num_memes  = 20\n",
    "num_lexes  = 20\n",
    "\n",
    "# Uniform meme probability\n",
    "meme_probs = np.ones(num_memes)    # can be replaced w/ memeprobs = np.random.rand(num_memes)\n",
    "meme_probs /= meme_probs.sum()\n",
    "\n",
    "grammars = model.init_grammars(meme_probs, num_agents=num_agents, num_memes=num_memes, num_lexes=num_lexes)"
   ]
  },
  {
   "cell_type": "code",
   "execution_count": null,
   "metadata": {
    "collapsed": false
   },
   "outputs": [],
   "source": [
    "stats = model.run_simulation(grammars, meme_probs=meme_probs,\n",
    "                             num_agents=num_agents, num_memes=num_memes, num_lexes=num_lexes,\n",
    "                             mutation_scale=0.1, num_steps=300000, report_every=10000)"
   ]
  },
  {
   "cell_type": "code",
   "execution_count": null,
   "metadata": {
    "collapsed": false
   },
   "outputs": [],
   "source": [
    "import pandas as pd\n",
    "df = pd.DataFrame.from_dict(stats)\n",
    "df.plot('step','comprehension')\n",
    "df.plot('step','acceptance')"
   ]
  },
  {
   "cell_type": "code",
   "execution_count": null,
   "metadata": {
    "collapsed": false
   },
   "outputs": [],
   "source": []
  }
 ],
 "metadata": {
  "kernelspec": {
   "display_name": "Python 3",
   "language": "python",
   "name": "python3"
  },
  "language_info": {
   "codemirror_mode": {
    "name": "ipython",
    "version": 3
   },
   "file_extension": ".py",
   "mimetype": "text/x-python",
   "name": "python",
   "nbconvert_exporter": "python",
   "pygments_lexer": "ipython3",
   "version": "3.6.1"
  }
 },
 "nbformat": 4,
 "nbformat_minor": 0
}
